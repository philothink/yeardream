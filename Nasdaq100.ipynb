{
 "cells": [
  {
   "cell_type": "code",
   "execution_count": 1,
   "id": "2f28a645",
   "metadata": {
    "ExecuteTime": {
     "end_time": "2022-10-16T15:12:16.393068Z",
     "start_time": "2022-10-16T15:12:15.358981Z"
    }
   },
   "outputs": [],
   "source": [
    "import yfinance as yf\n",
    "\n",
    "nq100 = yf.Ticker(\"NQ=F\")\n",
    "\n",
    "nq = yf.Ticker(\"^NDX\")"
   ]
  },
  {
   "cell_type": "code",
   "execution_count": 45,
   "id": "777bcbd4",
   "metadata": {
    "ExecuteTime": {
     "end_time": "2022-10-16T15:46:25.793169Z",
     "start_time": "2022-10-16T15:46:25.284458Z"
    }
   },
   "outputs": [],
   "source": [
    "nq100_day = nq100.history(start='2022-08-20', interval='60m')\n",
    "nq100_day.drop(columns=['Dividends', 'Stock Splits'], inplace=True)"
   ]
  },
  {
   "cell_type": "code",
   "execution_count": 46,
   "id": "49c61686",
   "metadata": {
    "ExecuteTime": {
     "end_time": "2022-10-16T15:46:27.140511Z",
     "start_time": "2022-10-16T15:46:27.131500Z"
    }
   },
   "outputs": [],
   "source": [
    "nq100_day['O-L'] = nq100_day.Open - nq100_day.Low\n",
    "nq100_day['H-O'] = nq100_day.High - nq100_day.Open"
   ]
  },
  {
   "cell_type": "code",
   "execution_count": 47,
   "id": "d0eb0ed4",
   "metadata": {
    "ExecuteTime": {
     "end_time": "2022-10-16T15:46:27.589387Z",
     "start_time": "2022-10-16T15:46:27.571372Z"
    }
   },
   "outputs": [],
   "source": [
    "nq100_day['tO - yC'] = nq100_day.Open - nq100_day.Close.shift(1)\n",
    "# nq100_day['H-O'] = nq100_day.High - nq100_day.Open"
   ]
  },
  {
   "cell_type": "code",
   "execution_count": 48,
   "id": "5ed474ca",
   "metadata": {
    "ExecuteTime": {
     "end_time": "2022-10-16T15:46:28.382576Z",
     "start_time": "2022-10-16T15:46:28.363161Z"
    }
   },
   "outputs": [
    {
     "data": {
      "text/html": [
       "<div>\n",
       "<style scoped>\n",
       "    .dataframe tbody tr th:only-of-type {\n",
       "        vertical-align: middle;\n",
       "    }\n",
       "\n",
       "    .dataframe tbody tr th {\n",
       "        vertical-align: top;\n",
       "    }\n",
       "\n",
       "    .dataframe thead th {\n",
       "        text-align: right;\n",
       "    }\n",
       "</style>\n",
       "<table border=\"1\" class=\"dataframe\">\n",
       "  <thead>\n",
       "    <tr style=\"text-align: right;\">\n",
       "      <th></th>\n",
       "      <th>Open</th>\n",
       "      <th>High</th>\n",
       "      <th>Low</th>\n",
       "      <th>Close</th>\n",
       "      <th>Volume</th>\n",
       "      <th>O-L</th>\n",
       "      <th>H-O</th>\n",
       "      <th>tO - yC</th>\n",
       "    </tr>\n",
       "    <tr>\n",
       "      <th>Datetime</th>\n",
       "      <th></th>\n",
       "      <th></th>\n",
       "      <th></th>\n",
       "      <th></th>\n",
       "      <th></th>\n",
       "      <th></th>\n",
       "      <th></th>\n",
       "      <th></th>\n",
       "    </tr>\n",
       "  </thead>\n",
       "  <tbody>\n",
       "    <tr>\n",
       "      <th>2022-08-21 18:00:00-04:00</th>\n",
       "      <td>13226.50</td>\n",
       "      <td>13226.50</td>\n",
       "      <td>13177.00</td>\n",
       "      <td>13198.25</td>\n",
       "      <td>5423</td>\n",
       "      <td>49.50</td>\n",
       "      <td>0.00</td>\n",
       "      <td>NaN</td>\n",
       "    </tr>\n",
       "    <tr>\n",
       "      <th>2022-08-21 19:00:00-04:00</th>\n",
       "      <td>13198.00</td>\n",
       "      <td>13211.25</td>\n",
       "      <td>13177.00</td>\n",
       "      <td>13187.25</td>\n",
       "      <td>3771</td>\n",
       "      <td>21.00</td>\n",
       "      <td>13.25</td>\n",
       "      <td>-0.25</td>\n",
       "    </tr>\n",
       "    <tr>\n",
       "      <th>2022-08-21 20:00:00-04:00</th>\n",
       "      <td>13187.75</td>\n",
       "      <td>13199.00</td>\n",
       "      <td>13177.50</td>\n",
       "      <td>13185.50</td>\n",
       "      <td>4299</td>\n",
       "      <td>10.25</td>\n",
       "      <td>11.25</td>\n",
       "      <td>0.50</td>\n",
       "    </tr>\n",
       "    <tr>\n",
       "      <th>2022-08-21 21:00:00-04:00</th>\n",
       "      <td>13185.00</td>\n",
       "      <td>13206.75</td>\n",
       "      <td>13182.75</td>\n",
       "      <td>13196.50</td>\n",
       "      <td>3973</td>\n",
       "      <td>2.25</td>\n",
       "      <td>21.75</td>\n",
       "      <td>-0.50</td>\n",
       "    </tr>\n",
       "    <tr>\n",
       "      <th>2022-08-21 22:00:00-04:00</th>\n",
       "      <td>13197.75</td>\n",
       "      <td>13222.75</td>\n",
       "      <td>13195.50</td>\n",
       "      <td>13219.25</td>\n",
       "      <td>3253</td>\n",
       "      <td>2.25</td>\n",
       "      <td>25.00</td>\n",
       "      <td>1.25</td>\n",
       "    </tr>\n",
       "    <tr>\n",
       "      <th>...</th>\n",
       "      <td>...</td>\n",
       "      <td>...</td>\n",
       "      <td>...</td>\n",
       "      <td>...</td>\n",
       "      <td>...</td>\n",
       "      <td>...</td>\n",
       "      <td>...</td>\n",
       "      <td>...</td>\n",
       "    </tr>\n",
       "    <tr>\n",
       "      <th>2022-10-14 13:00:00-04:00</th>\n",
       "      <td>10819.50</td>\n",
       "      <td>10853.00</td>\n",
       "      <td>10793.50</td>\n",
       "      <td>10850.50</td>\n",
       "      <td>44893</td>\n",
       "      <td>26.00</td>\n",
       "      <td>33.50</td>\n",
       "      <td>0.00</td>\n",
       "    </tr>\n",
       "    <tr>\n",
       "      <th>2022-10-14 14:00:00-04:00</th>\n",
       "      <td>10851.00</td>\n",
       "      <td>10851.50</td>\n",
       "      <td>10767.25</td>\n",
       "      <td>10800.25</td>\n",
       "      <td>52778</td>\n",
       "      <td>83.75</td>\n",
       "      <td>0.50</td>\n",
       "      <td>0.50</td>\n",
       "    </tr>\n",
       "    <tr>\n",
       "      <th>2022-10-14 15:00:00-04:00</th>\n",
       "      <td>10800.50</td>\n",
       "      <td>10824.50</td>\n",
       "      <td>10726.75</td>\n",
       "      <td>10748.00</td>\n",
       "      <td>90719</td>\n",
       "      <td>73.75</td>\n",
       "      <td>24.00</td>\n",
       "      <td>0.25</td>\n",
       "    </tr>\n",
       "    <tr>\n",
       "      <th>2022-10-14 16:00:00-04:00</th>\n",
       "      <td>10748.00</td>\n",
       "      <td>10765.75</td>\n",
       "      <td>10741.50</td>\n",
       "      <td>10746.25</td>\n",
       "      <td>20004</td>\n",
       "      <td>6.50</td>\n",
       "      <td>17.75</td>\n",
       "      <td>0.00</td>\n",
       "    </tr>\n",
       "    <tr>\n",
       "      <th>2022-10-14 16:59:59-04:00</th>\n",
       "      <td>10746.25</td>\n",
       "      <td>10746.25</td>\n",
       "      <td>10746.25</td>\n",
       "      <td>10746.25</td>\n",
       "      <td>0</td>\n",
       "      <td>0.00</td>\n",
       "      <td>0.00</td>\n",
       "      <td>0.00</td>\n",
       "    </tr>\n",
       "  </tbody>\n",
       "</table>\n",
       "<p>912 rows × 8 columns</p>\n",
       "</div>"
      ],
      "text/plain": [
       "                               Open      High       Low     Close  Volume  \\\n",
       "Datetime                                                                    \n",
       "2022-08-21 18:00:00-04:00  13226.50  13226.50  13177.00  13198.25    5423   \n",
       "2022-08-21 19:00:00-04:00  13198.00  13211.25  13177.00  13187.25    3771   \n",
       "2022-08-21 20:00:00-04:00  13187.75  13199.00  13177.50  13185.50    4299   \n",
       "2022-08-21 21:00:00-04:00  13185.00  13206.75  13182.75  13196.50    3973   \n",
       "2022-08-21 22:00:00-04:00  13197.75  13222.75  13195.50  13219.25    3253   \n",
       "...                             ...       ...       ...       ...     ...   \n",
       "2022-10-14 13:00:00-04:00  10819.50  10853.00  10793.50  10850.50   44893   \n",
       "2022-10-14 14:00:00-04:00  10851.00  10851.50  10767.25  10800.25   52778   \n",
       "2022-10-14 15:00:00-04:00  10800.50  10824.50  10726.75  10748.00   90719   \n",
       "2022-10-14 16:00:00-04:00  10748.00  10765.75  10741.50  10746.25   20004   \n",
       "2022-10-14 16:59:59-04:00  10746.25  10746.25  10746.25  10746.25       0   \n",
       "\n",
       "                             O-L    H-O  tO - yC  \n",
       "Datetime                                          \n",
       "2022-08-21 18:00:00-04:00  49.50   0.00      NaN  \n",
       "2022-08-21 19:00:00-04:00  21.00  13.25    -0.25  \n",
       "2022-08-21 20:00:00-04:00  10.25  11.25     0.50  \n",
       "2022-08-21 21:00:00-04:00   2.25  21.75    -0.50  \n",
       "2022-08-21 22:00:00-04:00   2.25  25.00     1.25  \n",
       "...                          ...    ...      ...  \n",
       "2022-10-14 13:00:00-04:00  26.00  33.50     0.00  \n",
       "2022-10-14 14:00:00-04:00  83.75   0.50     0.50  \n",
       "2022-10-14 15:00:00-04:00  73.75  24.00     0.25  \n",
       "2022-10-14 16:00:00-04:00   6.50  17.75     0.00  \n",
       "2022-10-14 16:59:59-04:00   0.00   0.00     0.00  \n",
       "\n",
       "[912 rows x 8 columns]"
      ]
     },
     "execution_count": 48,
     "metadata": {},
     "output_type": "execute_result"
    }
   ],
   "source": [
    "nq100_day"
   ]
  },
  {
   "cell_type": "code",
   "execution_count": null,
   "id": "7a15e705",
   "metadata": {},
   "outputs": [],
   "source": []
  },
  {
   "cell_type": "code",
   "execution_count": null,
   "id": "fb0408bf",
   "metadata": {},
   "outputs": [],
   "source": []
  },
  {
   "cell_type": "code",
   "execution_count": 42,
   "id": "8125eb2d",
   "metadata": {
    "ExecuteTime": {
     "end_time": "2022-10-16T15:39:51.593463Z",
     "start_time": "2022-10-16T15:39:51.578511Z"
    }
   },
   "outputs": [
    {
     "data": {
      "text/html": [
       "<div>\n",
       "<style scoped>\n",
       "    .dataframe tbody tr th:only-of-type {\n",
       "        vertical-align: middle;\n",
       "    }\n",
       "\n",
       "    .dataframe tbody tr th {\n",
       "        vertical-align: top;\n",
       "    }\n",
       "\n",
       "    .dataframe thead th {\n",
       "        text-align: right;\n",
       "    }\n",
       "</style>\n",
       "<table border=\"1\" class=\"dataframe\">\n",
       "  <thead>\n",
       "    <tr style=\"text-align: right;\">\n",
       "      <th></th>\n",
       "      <th>Open</th>\n",
       "      <th>High</th>\n",
       "      <th>Low</th>\n",
       "      <th>Close</th>\n",
       "      <th>Volume</th>\n",
       "      <th>O-L</th>\n",
       "      <th>H-O</th>\n",
       "      <th>tO - yC</th>\n",
       "    </tr>\n",
       "    <tr>\n",
       "      <th>Date</th>\n",
       "      <th></th>\n",
       "      <th></th>\n",
       "      <th></th>\n",
       "      <th></th>\n",
       "      <th></th>\n",
       "      <th></th>\n",
       "      <th></th>\n",
       "      <th></th>\n",
       "    </tr>\n",
       "  </thead>\n",
       "  <tbody>\n",
       "    <tr>\n",
       "      <th>2022-01-26 00:00:00-05:00</th>\n",
       "      <td>13945.5</td>\n",
       "      <td>14639.75</td>\n",
       "      <td>13945.5</td>\n",
       "      <td>14158.50</td>\n",
       "      <td>908549</td>\n",
       "      <td>0.0</td>\n",
       "      <td>694.25</td>\n",
       "      <td>-195.25</td>\n",
       "    </tr>\n",
       "    <tr>\n",
       "      <th>2022-05-13 00:00:00-04:00</th>\n",
       "      <td>11891.5</td>\n",
       "      <td>12432.00</td>\n",
       "      <td>11891.5</td>\n",
       "      <td>12382.75</td>\n",
       "      <td>663517</td>\n",
       "      <td>0.0</td>\n",
       "      <td>540.50</td>\n",
       "      <td>-55.75</td>\n",
       "    </tr>\n",
       "  </tbody>\n",
       "</table>\n",
       "</div>"
      ],
      "text/plain": [
       "                              Open      High      Low     Close  Volume  O-L  \\\n",
       "Date                                                                           \n",
       "2022-01-26 00:00:00-05:00  13945.5  14639.75  13945.5  14158.50  908549  0.0   \n",
       "2022-05-13 00:00:00-04:00  11891.5  12432.00  11891.5  12382.75  663517  0.0   \n",
       "\n",
       "                              H-O  tO - yC  \n",
       "Date                                        \n",
       "2022-01-26 00:00:00-05:00  694.25  -195.25  \n",
       "2022-05-13 00:00:00-04:00  540.50   -55.75  "
      ]
     },
     "execution_count": 42,
     "metadata": {},
     "output_type": "execute_result"
    }
   ],
   "source": [
    "nq100_day[nq100_day['O-L']==0]"
   ]
  },
  {
   "cell_type": "code",
   "execution_count": 43,
   "id": "c25dd39c",
   "metadata": {
    "ExecuteTime": {
     "end_time": "2022-10-16T15:40:12.300817Z",
     "start_time": "2022-10-16T15:40:12.283872Z"
    }
   },
   "outputs": [
    {
     "data": {
      "text/html": [
       "<div>\n",
       "<style scoped>\n",
       "    .dataframe tbody tr th:only-of-type {\n",
       "        vertical-align: middle;\n",
       "    }\n",
       "\n",
       "    .dataframe tbody tr th {\n",
       "        vertical-align: top;\n",
       "    }\n",
       "\n",
       "    .dataframe thead th {\n",
       "        text-align: right;\n",
       "    }\n",
       "</style>\n",
       "<table border=\"1\" class=\"dataframe\">\n",
       "  <thead>\n",
       "    <tr style=\"text-align: right;\">\n",
       "      <th></th>\n",
       "      <th>Open</th>\n",
       "      <th>High</th>\n",
       "      <th>Low</th>\n",
       "      <th>Close</th>\n",
       "      <th>Volume</th>\n",
       "      <th>O-L</th>\n",
       "      <th>H-O</th>\n",
       "      <th>tO - yC</th>\n",
       "    </tr>\n",
       "    <tr>\n",
       "      <th>Date</th>\n",
       "      <th></th>\n",
       "      <th></th>\n",
       "      <th></th>\n",
       "      <th></th>\n",
       "      <th></th>\n",
       "      <th></th>\n",
       "      <th></th>\n",
       "      <th></th>\n",
       "    </tr>\n",
       "  </thead>\n",
       "  <tbody>\n",
       "    <tr>\n",
       "      <th>2022-02-10 00:00:00-05:00</th>\n",
       "      <td>15062.25</td>\n",
       "      <td>15062.25</td>\n",
       "      <td>14622.00</td>\n",
       "      <td>14701.000000</td>\n",
       "      <td>834478</td>\n",
       "      <td>440.25</td>\n",
       "      <td>0.0</td>\n",
       "      <td>24.00</td>\n",
       "    </tr>\n",
       "    <tr>\n",
       "      <th>2022-03-10 00:00:00-05:00</th>\n",
       "      <td>13778.00</td>\n",
       "      <td>13778.00</td>\n",
       "      <td>13396.25</td>\n",
       "      <td>13586.000000</td>\n",
       "      <td>611077</td>\n",
       "      <td>381.75</td>\n",
       "      <td>0.0</td>\n",
       "      <td>43.25</td>\n",
       "    </tr>\n",
       "    <tr>\n",
       "      <th>2022-07-11 00:00:00-04:00</th>\n",
       "      <td>12149.75</td>\n",
       "      <td>12149.75</td>\n",
       "      <td>11853.00</td>\n",
       "      <td>11884.250000</td>\n",
       "      <td>578336</td>\n",
       "      <td>296.75</td>\n",
       "      <td>0.0</td>\n",
       "      <td>-2.25</td>\n",
       "    </tr>\n",
       "    <tr>\n",
       "      <th>2022-08-22 00:00:00-04:00</th>\n",
       "      <td>13226.50</td>\n",
       "      <td>13226.50</td>\n",
       "      <td>12874.50</td>\n",
       "      <td>12909.750000</td>\n",
       "      <td>599946</td>\n",
       "      <td>352.00</td>\n",
       "      <td>0.0</td>\n",
       "      <td>-42.00</td>\n",
       "    </tr>\n",
       "    <tr>\n",
       "      <th>2022-09-16 00:00:00-04:00</th>\n",
       "      <td>11880.00</td>\n",
       "      <td>11880.00</td>\n",
       "      <td>11750.50</td>\n",
       "      <td>11814.580078</td>\n",
       "      <td>754923</td>\n",
       "      <td>129.50</td>\n",
       "      <td>0.0</td>\n",
       "      <td>-54.75</td>\n",
       "    </tr>\n",
       "  </tbody>\n",
       "</table>\n",
       "</div>"
      ],
      "text/plain": [
       "                               Open      High       Low         Close  Volume  \\\n",
       "Date                                                                            \n",
       "2022-02-10 00:00:00-05:00  15062.25  15062.25  14622.00  14701.000000  834478   \n",
       "2022-03-10 00:00:00-05:00  13778.00  13778.00  13396.25  13586.000000  611077   \n",
       "2022-07-11 00:00:00-04:00  12149.75  12149.75  11853.00  11884.250000  578336   \n",
       "2022-08-22 00:00:00-04:00  13226.50  13226.50  12874.50  12909.750000  599946   \n",
       "2022-09-16 00:00:00-04:00  11880.00  11880.00  11750.50  11814.580078  754923   \n",
       "\n",
       "                              O-L  H-O  tO - yC  \n",
       "Date                                             \n",
       "2022-02-10 00:00:00-05:00  440.25  0.0    24.00  \n",
       "2022-03-10 00:00:00-05:00  381.75  0.0    43.25  \n",
       "2022-07-11 00:00:00-04:00  296.75  0.0    -2.25  \n",
       "2022-08-22 00:00:00-04:00  352.00  0.0   -42.00  \n",
       "2022-09-16 00:00:00-04:00  129.50  0.0   -54.75  "
      ]
     },
     "execution_count": 43,
     "metadata": {},
     "output_type": "execute_result"
    }
   ],
   "source": [
    "nq100_day[nq100_day['H-O']==0]"
   ]
  },
  {
   "cell_type": "code",
   "execution_count": 34,
   "id": "8a14c9df",
   "metadata": {
    "ExecuteTime": {
     "end_time": "2022-10-16T15:30:15.084280Z",
     "start_time": "2022-10-16T15:30:15.059688Z"
    }
   },
   "outputs": [
    {
     "data": {
      "text/html": [
       "<div>\n",
       "<style scoped>\n",
       "    .dataframe tbody tr th:only-of-type {\n",
       "        vertical-align: middle;\n",
       "    }\n",
       "\n",
       "    .dataframe tbody tr th {\n",
       "        vertical-align: top;\n",
       "    }\n",
       "\n",
       "    .dataframe thead th {\n",
       "        text-align: right;\n",
       "    }\n",
       "</style>\n",
       "<table border=\"1\" class=\"dataframe\">\n",
       "  <thead>\n",
       "    <tr style=\"text-align: right;\">\n",
       "      <th></th>\n",
       "      <th>Open</th>\n",
       "      <th>High</th>\n",
       "      <th>Low</th>\n",
       "      <th>Close</th>\n",
       "      <th>Volume</th>\n",
       "      <th>O-L</th>\n",
       "      <th>H-O</th>\n",
       "    </tr>\n",
       "  </thead>\n",
       "  <tbody>\n",
       "    <tr>\n",
       "      <th>count</th>\n",
       "      <td>199.000000</td>\n",
       "      <td>199.000000</td>\n",
       "      <td>199.000000</td>\n",
       "      <td>199.000000</td>\n",
       "      <td>1.990000e+02</td>\n",
       "      <td>199.000000</td>\n",
       "      <td>199.000000</td>\n",
       "    </tr>\n",
       "    <tr>\n",
       "      <th>mean</th>\n",
       "      <td>13144.878391</td>\n",
       "      <td>13316.868390</td>\n",
       "      <td>12922.259044</td>\n",
       "      <td>13115.295373</td>\n",
       "      <td>6.676191e+05</td>\n",
       "      <td>222.619347</td>\n",
       "      <td>171.989999</td>\n",
       "    </tr>\n",
       "    <tr>\n",
       "      <th>std</th>\n",
       "      <td>1324.841709</td>\n",
       "      <td>1316.832635</td>\n",
       "      <td>1303.330193</td>\n",
       "      <td>1314.949582</td>\n",
       "      <td>1.613812e+05</td>\n",
       "      <td>165.167391</td>\n",
       "      <td>135.306699</td>\n",
       "    </tr>\n",
       "    <tr>\n",
       "      <th>min</th>\n",
       "      <td>10859.000000</td>\n",
       "      <td>10976.750000</td>\n",
       "      <td>10484.750000</td>\n",
       "      <td>10746.250000</td>\n",
       "      <td>1.251600e+05</td>\n",
       "      <td>0.000000</td>\n",
       "      <td>0.000000</td>\n",
       "    </tr>\n",
       "    <tr>\n",
       "      <th>25%</th>\n",
       "      <td>12031.625000</td>\n",
       "      <td>12180.375000</td>\n",
       "      <td>11850.625000</td>\n",
       "      <td>12013.250000</td>\n",
       "      <td>5.680405e+05</td>\n",
       "      <td>96.000000</td>\n",
       "      <td>69.375000</td>\n",
       "    </tr>\n",
       "    <tr>\n",
       "      <th>50%</th>\n",
       "      <td>12974.250000</td>\n",
       "      <td>13183.750000</td>\n",
       "      <td>12825.750000</td>\n",
       "      <td>12962.500000</td>\n",
       "      <td>6.542780e+05</td>\n",
       "      <td>191.000000</td>\n",
       "      <td>136.500000</td>\n",
       "    </tr>\n",
       "    <tr>\n",
       "      <th>75%</th>\n",
       "      <td>14180.875000</td>\n",
       "      <td>14354.875000</td>\n",
       "      <td>13908.875000</td>\n",
       "      <td>14161.625000</td>\n",
       "      <td>7.633765e+05</td>\n",
       "      <td>336.125000</td>\n",
       "      <td>240.000000</td>\n",
       "    </tr>\n",
       "    <tr>\n",
       "      <th>max</th>\n",
       "      <td>16497.750000</td>\n",
       "      <td>16564.000000</td>\n",
       "      <td>16292.000000</td>\n",
       "      <td>16485.500000</td>\n",
       "      <td>1.323080e+06</td>\n",
       "      <td>795.000000</td>\n",
       "      <td>694.250000</td>\n",
       "    </tr>\n",
       "  </tbody>\n",
       "</table>\n",
       "</div>"
      ],
      "text/plain": [
       "               Open          High           Low         Close        Volume  \\\n",
       "count    199.000000    199.000000    199.000000    199.000000  1.990000e+02   \n",
       "mean   13144.878391  13316.868390  12922.259044  13115.295373  6.676191e+05   \n",
       "std     1324.841709   1316.832635   1303.330193   1314.949582  1.613812e+05   \n",
       "min    10859.000000  10976.750000  10484.750000  10746.250000  1.251600e+05   \n",
       "25%    12031.625000  12180.375000  11850.625000  12013.250000  5.680405e+05   \n",
       "50%    12974.250000  13183.750000  12825.750000  12962.500000  6.542780e+05   \n",
       "75%    14180.875000  14354.875000  13908.875000  14161.625000  7.633765e+05   \n",
       "max    16497.750000  16564.000000  16292.000000  16485.500000  1.323080e+06   \n",
       "\n",
       "              O-L         H-O  \n",
       "count  199.000000  199.000000  \n",
       "mean   222.619347  171.989999  \n",
       "std    165.167391  135.306699  \n",
       "min      0.000000    0.000000  \n",
       "25%     96.000000   69.375000  \n",
       "50%    191.000000  136.500000  \n",
       "75%    336.125000  240.000000  \n",
       "max    795.000000  694.250000  "
      ]
     },
     "execution_count": 34,
     "metadata": {},
     "output_type": "execute_result"
    }
   ],
   "source": [
    "nq100_day.describe()"
   ]
  },
  {
   "cell_type": "code",
   "execution_count": 35,
   "id": "7482bc7a",
   "metadata": {
    "ExecuteTime": {
     "end_time": "2022-10-16T15:30:15.209640Z",
     "start_time": "2022-10-16T15:30:15.194864Z"
    }
   },
   "outputs": [],
   "source": [
    "import matplotlib as plt"
   ]
  },
  {
   "cell_type": "code",
   "execution_count": 36,
   "id": "e2796af0",
   "metadata": {
    "ExecuteTime": {
     "end_time": "2022-10-16T15:30:15.412605Z",
     "start_time": "2022-10-16T15:30:15.332504Z"
    }
   },
   "outputs": [
    {
     "data": {
      "text/plain": [
       "<matplotlib.collections.PathCollection at 0x1d6adaa3910>"
      ]
     },
     "execution_count": 36,
     "metadata": {},
     "output_type": "execute_result"
    },
    {
     "data": {
      "image/png": "[encoded data removed]",
      "text/plain": [
       "<Figure size 432x288 with 1 Axes>"
      ]
     },
     "metadata": {
      "needs_background": "light"
     },
     "output_type": "display_data"
    }
   ],
   "source": [
    "plt.pyplot.scatter(nq100_day.index, nq100_day['O-L'])"
   ]
  },
  {
   "cell_type": "code",
   "execution_count": 37,
   "id": "275cb089",
   "metadata": {
    "ExecuteTime": {
     "end_time": "2022-10-16T15:30:15.553211Z",
     "start_time": "2022-10-16T15:30:15.475412Z"
    }
   },
   "outputs": [
    {
     "data": {
      "text/plain": [
       "<matplotlib.collections.PathCollection at 0x1d6adb092e0>"
      ]
     },
     "execution_count": 37,
     "metadata": {},
     "output_type": "execute_result"
    },
    {
     "data": {
      "image/png": "[encoded data removed]",
      "text/plain": [
       "<Figure size 432x288 with 1 Axes>"
      ]
     },
     "metadata": {
      "needs_background": "light"
     },
     "output_type": "display_data"
    }
   ],
   "source": [
    "plt.pyplot.scatter(nq100_day.index, nq100_day['H-O'])"
   ]
  },
  {
   "cell_type": "code",
   "execution_count": 44,
   "id": "b9223da9",
   "metadata": {
    "ExecuteTime": {
     "end_time": "2022-10-16T15:44:40.761450Z",
     "start_time": "2022-10-16T15:44:40.699889Z"
    }
   },
   "outputs": [
    {
     "data": {
      "text/plain": [
       "<matplotlib.collections.PathCollection at 0x1d6aede5d60>"
      ]
     },
     "execution_count": 44,
     "metadata": {},
     "output_type": "execute_result"
    },
    {
     "data": {
      "image/png": "[encoded data removed]",
      "text/plain": [
       "<Figure size 432x288 with 1 Axes>"
      ]
     },
     "metadata": {
      "needs_background": "light"
     },
     "output_type": "display_data"
    }
   ],
   "source": [
    "plt.pyplot.scatter(nq100_day['O-L'], nq100_day['H-O'])"
   ]
  },
  {
   "cell_type": "code",
   "execution_count": null,
   "id": "fe499780",
   "metadata": {},
   "outputs": [],
   "source": []
  }
 ],
 "metadata": {
  "kernelspec": {
   "display_name": "Python 3 (ipykernel)",
   "language": "python",
   "name": "python3"
  },
  "language_info": {
   "codemirror_mode": {
    "name": "ipython",
    "version": 3
   },
   "file_extension": ".py",
   "mimetype": "text/x-python",
   "name": "python",
   "nbconvert_exporter": "python",
   "pygments_lexer": "ipython3",
   "version": "3.9.12"
  },
  "toc": {
   "base_numbering": 1,
   "nav_menu": {},
   "number_sections": true,
   "sideBar": true,
   "skip_h1_title": false,
   "title_cell": "Table of Contents",
   "title_sidebar": "Contents",
   "toc_cell": false,
   "toc_position": {},
   "toc_section_display": true,
   "toc_window_display": false
  }
 },
 "nbformat": 4,
 "nbformat_minor": 5
}
